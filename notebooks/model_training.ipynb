{
 "cells": [
  {
   "cell_type": "code",
   "execution_count": null,
   "metadata": {},
   "outputs": [],
   "source": [
    "# Import necessary libraries\n",
    "from pyspark.mllib.util import MLUtils\n",
    "from pyspark.mllib.tree import RandomForest, DecisionTree\n",
    "from pyspark.mllib.classification import NaiveBayes\n",
    "from pyspark.mllib.evaluation import MulticlassMetrics\n",
    "from pyspark.mllib.linalg import Vectors"
   ]
  },
  {
   "cell_type": "code",
   "execution_count": null,
   "metadata": {},
   "outputs": [],
   "source": [
    "# Functions for loading data and training models (as defined in the main.py script)\n",
    "\n",
    "# Load data\n",
    "trainingData, validationData, testData = load_data(\"path_to_your_data\")"
   ]
  },
  {
   "cell_type": "code",
   "execution_count": null,
   "metadata": {},
   "outputs": [],
   "source": [
    "# Train, validate and test models\n",
    "algorithms = [\"RandomForest\", \"DecisionTree\", \"NaiveBayes\"]\n",
    "for algorithm in algorithms:\n",
    "    print(f\"\\nTraining, validating and testing {algorithm}\")\n",
    "    model, validationError, precision, recall, f1Score = train_and_evaluate_model(algorithm, trainingData, validationData, testData)\n",
    "    print(f\"Validation Error: {validationError}\")\n",
    "    print(f\"Test Precision: {precision}\")\n",
    "    print(f\"Test Recall: {recall}\")\n",
    "    print(f\"Test F1 Score: {f1Score}\")"
   ]
  }
 ],
 "metadata": {
  "language_info": {
   "name": "python"
  },
  "orig_nbformat": 4
 },
 "nbformat": 4,
 "nbformat_minor": 2
}
